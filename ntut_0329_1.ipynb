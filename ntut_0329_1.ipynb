{
  "nbformat": 4,
  "nbformat_minor": 0,
  "metadata": {
    "colab": {
      "provenance": [],
      "authorship_tag": "ABX9TyOlM69oKKK9Q09zcWyIj1rf",
      "include_colab_link": true
    },
    "kernelspec": {
      "name": "python3",
      "display_name": "Python 3"
    },
    "language_info": {
      "name": "python"
    }
  },
  "cells": [
    {
      "cell_type": "markdown",
      "metadata": {
        "id": "view-in-github",
        "colab_type": "text"
      },
      "source": [
        "<a href=\"https://colab.research.google.com/github/Elwing-Chou/ntut0315/blob/main/ntut_0329_1.ipynb\" target=\"_parent\"><img src=\"https://colab.research.google.com/assets/colab-badge.svg\" alt=\"Open In Colab\"/></a>"
      ]
    },
    {
      "cell_type": "markdown",
      "source": [
        "\n",
        "\n",
        "```\n",
        "檔案讀取/寫入\n",
        "\n",
        "1. 編碼: 以前每個國家有自己編碼(繁體中文:BIG5)\n",
        "  會很容易亂碼(編碼=/=解碼)\n",
        "      現在全世界都使用同一套編碼 萬國編碼(Unicode)裡面utf-8\n",
        "```\n",
        "\n"
      ],
      "metadata": {
        "id": "lewGrBWfUXQn"
      }
    },
    {
      "cell_type": "code",
      "execution_count": 3,
      "metadata": {
        "id": "qAgaXQZeUOKn"
      },
      "outputs": [],
      "source": [
        "# 專屬功能\n",
        "f = open(\"a.txt\", \"w\", encoding=\"utf-8\")\n",
        "# 以前功能: write(f, \"hello\")\n",
        "# 專屬於某種型態功能: f.write(\"hello\")\n",
        "# 補充: 如果你要打打不出來的字(換行) \\n\n",
        "f.write(\"hello\\n\")\n",
        "f.write(\"hello2\")\n",
        "# 以前: close(f)\n",
        "# 專屬功能: f.close()\n",
        "f.close()"
      ]
    },
    {
      "cell_type": "code",
      "source": [
        "f = open(\"a.txt\", \"r\", encoding=\"utf-8\")\n",
        "# 以前: content = read(f)\n",
        "# 專屬: content = f.read()\n",
        "content = f.read()\n",
        "print(content)\n",
        "f.close()"
      ],
      "metadata": {
        "colab": {
          "base_uri": "https://localhost:8080/"
        },
        "id": "-edDSMnvZk0C",
        "outputId": "0f024651-9c98-4c1a-9691-03398517c2fa"
      },
      "execution_count": 4,
      "outputs": [
        {
          "output_type": "stream",
          "name": "stdout",
          "text": [
            "hello\n",
            "hello2\n"
          ]
        }
      ]
    },
    {
      "cell_type": "markdown",
      "source": [
        "\n",
        "\n",
        "```\n",
        "list+dict: 可以表示一切\n",
        "list: 同類型清單\n",
        "dict: 一個複雜單位\n",
        "\n",
        "使用這兩個型態來表示: JSON格式\n",
        "```\n",
        "\n"
      ],
      "metadata": {
        "id": "Ej5Xv1UZytjy"
      }
    },
    {
      "cell_type": "code",
      "source": [
        "# 巴哈彈木分析\n",
        "import json\n",
        "import urllib.request as req\n",
        "\n",
        "url = \"https://api.gamer.com.tw/anime/v1/danmu.php?videoSn=20454&geo=TW%2CHK\"\n",
        "f = req.urlopen(url)\n",
        "# 跟上面有點不一樣, 上面的開啟是純文字檔(encoding=\"utf-8\")\n",
        "# 這裡開啟有可能是各種形式(他其實不是字串str, 他其實是原始01 bytes型態)\n",
        "content = f.read()\n",
        "# 但我知道他可以被變成字串, 所以我使用bytes型態的專屬功能 .decode(\"utf-8\")\n",
        "content = content.decode(\"utf-8\")\n",
        "# print(content)\n",
        "# 型態轉換: content(str) -> list/dict\n",
        "content_json = json.loads(content)\n",
        "# print(type(content_json))\n",
        "danmu_list = content_json[\"data\"][\"danmu\"]\n",
        "for danmu in danmu_list:\n",
        "    text = danmu[\"text\"]\n",
        "    userid = danmu[\"userid\"]\n",
        "    if len(text) >= 10:\n",
        "        print(userid, text)"
      ],
      "metadata": {
        "colab": {
          "base_uri": "https://localhost:8080/"
        },
        "id": "eazQx3F5bqwC",
        "outputId": "336991c8-3922-4ca1-ef40-c0f6df5be7a4"
      },
      "execution_count": 24,
      "outputs": [
        {
          "output_type": "stream",
          "name": "stdout",
          "text": [
            "bightj55430 PUI PUIモルカー\n",
            "Ethan836304 ?????????????????\n",
            "aa2652777 小孩才看進巨 這才是猛男在看的\n",
            "e126213477 為了看三分鐘的動漫 看了30秒的廣告\n",
            "a7788456987 小朋友才看鬼滅，大人都看天竺鼠車車\n",
            "PresidentPSC 上車  不是上鼠(?)\n",
            "wsyw .................\n",
            "colatea36 超可愛，好適合小朋友看\n",
            "zxc45845 繼別冊奧林匹克之環之後的新毒品\n",
            "a2517042253 靠 原來最近推特上很紅的是這個www\n",
            "lxj0711 車車車車車車車車車車車車車車車車車車車車\n",
            "sarodi1991 四刷了!!停不下來啊啊阿\n",
            "Bihuan520 簽 首看 2021/1/22~\n",
            "a20911850 有夠可愛啊啊啊啊啊啊！！！！\n",
            "johnstyle 被 A Jie 推坑來的 +1\n",
            "Yenyu1013 是男人就要看天竺鼠車車\n",
            "a3480848 快30歲的半熟大叔表示... 神..神作\n",
            "karta120812 六刷天竺鼠車車的我是否中毒了~\n",
            "vul3t4 來朝聖這批毒品到底有多純\n",
            "akemi0509 這讓我想起了PINGU帶給我的感動\n",
            "P6NDA142676 本   季   霸   權\n",
            "waynepxa9564 這第幾刷了，停不下來XD\n",
            "cok 這幾台puipui都想要全買\n",
            "jim1000601 鬼滅小孩看的 猛男都可天竺鼠車車\n",
            "TRJR 追啦!!!!!!!!!!!!!!!!\n",
            "y7cfn859m7 2022.4.9第十刷\n",
            "Peggy271187 簽 來看可愛天竺鼠車車\n",
            "abccz2000 對像族群：少女www\n",
            "james9055 三刷了超可愛嗚嗚嗚嗚\n",
            "snake024 再...再吸一次就好\n",
            "UberPANDA 神作啊鬼滅是什麼 進擊是什麼\n",
            "sazzzzz0402 這個彈幕是在 也太多˙ˇ˙\n",
            "a65654343v51 本季霸權確定了！抱歉了巨人\n",
            "mimashelly 女人就是要喜歡成熟的東西，例如天竺鼠車車\n",
            "ja1011532 看起來像天竺鼠版的BUBU恰恰\n",
            "Anuahs 小孩子才看鬼滅，大人都看天竺鼠ㄔㄜㄔㄜ\n",
            "Aa0902163055 我不知道我為什麼點進來 但我不後悔\n",
            "timl697741 baby66叫我來的\n",
            "ktv0213 超可愛哈哈哈哈哈哈哈哈哈哈哈\n",
            "jotp6u04 今年霸權動畫 沒有之一\n",
            "andywen707 為了這個三分鐘不到的動畫 我花了30秒看廣告\n",
            "s8607012002 說不出來跟香蕉喵比哪個ㄎㄧㄤ\n",
            "cdrw452452 天竺鼠真的就是會這樣排隊XD 超可愛\n",
            "DKLin0218 大人一致推薦 <天竺鼠車車>\n",
            "wsyw 剛看完  這到底是三小XD\n",
            "afds9876 槓! 我還以為他在聞屁屁 嚇死\n",
            "jordenkyokou 嗯 嗯 是費洛蒙的味道\n",
            "mydiesky 太可愛了(⊙ω⊙)！\n",
            "seazilicy 各位同學安靜！！！！\n",
            "A24968631 這啥小..........\n",
            "FURY2717666 木棉花我愛你 代理這麼棒的動畫❤️\n",
            "hogget128 我已經停不下來了!!!\n",
            "gp02780717 天竺鼠聲音完全一樣~太可愛了喇~受不了❤\n",
            "david7112123 神作!!!!!!!!!!!!!!!!\n",
            "xtrasakuk 人形蜈蚣之家前來報到\n",
            "refdike016 pui pui pui pui pui pui\n",
            "rikka70205 恐龍播完後的新毒品！先吸為敬(*´∀｀）\n",
            "leegun 開場背後位！神作確定！\n",
            "seazilicy  等...等一下...這個騎乘來的太快...\n",
            "jdchuang 一開始就繁衍? 好真實\n",
            "Buikit 一堆pupuchacha\n",
            "hank4024 515151515151515151\n",
            "Danny0601 ---動漫史上最強制霸認證---\n",
            "jimmylily719 監督姊姊（也有參與製作）\n",
            "Anuahs 小孩子才戴手錶，大人都帶時鐘\n",
            "qwe1237564 妳剛剛有翻車 妳知道嗎？\n",
            "s2160512345 連真人也要定格動畫笑死\n",
            "a22634087 ?？？？？？？？？？？\n",
            "kai7718 羊毛氈意外的很有質感XDDD\n",
            "lily5202099 來了~~~~療育啊啊\n",
            "s93080 為什麼是拿鬧鐘wwwww\n",
            "r04521104 彈幕多到自己在哪都看不到了\n",
            "mrnmrn769 ???????????\n",
            "putcowsister 前面的是第二級的天竺鼠嗎？XD\n",
            "Cabbage0823 ？？？？？？？？？？？？？\n",
            "a073515756 ?!!!! 這到底嗑了甚麼\n",
            "new9584711 公司養很多，這個吵雜聲真的超還原\n",
            "kaju7910 ??????????????????\n",
            "gigila ????????????????????????????????????????????????????????\n",
            "force28aa 真的都是天竺鼠的聲音耶\n",
            "chima1835 為了不到3分鐘的車車看30秒的廣告\n",
            "RC1962 笑死，為什麼我凌晨4.在這裡\n",
            "k678502004 這真的是本季霸權啊~~~~~\n",
            "angelina95 看完30秒的廣告後給我看這種東西？ 真香\n",
            "momokoasos 以為後面那隻要吃草wwww\n",
            "a785785 導演是多愛他家的天竺鼠\n",
            "seazilicy 矮額 不好好質詢在這裡擋紅綠燈\n",
            "aa851202 邱議員請不要以身試法謝謝\n",
            "Ethan836304 ljldlgjkrlngvkrngvkrtnvgvngkvrnvgkjrvdnvgjnrgj\n",
            "pimkg24 有夠可愛(⁎⁍̴̛ᴗ⁍̴̛⁎)\n",
            "jgjg12345 ?????????????????????????????????\n",
            "annbe94 導演&導演家的天竺鼠↓\n",
            "bightj55430 吸貓時代結束了，該吸鼠囉\n",
            "bleach13th 人行道不是很寬敞嗎???\n",
            "Anuahs 讓開，我要吸上方橘貓\n",
            "a13579jeff 笑死 我為啥會看這個\n",
            "afds9876 ???????????????????????????\n",
            "a82380 羊?豬??鼠?? 傻傻不清楚\n",
            "snake024 第二隻好可愛><~~\n",
            "Mickey5487 ？？？？？？？？？？？？？？？？？？？？\n",
            "kai7718 開車看到這種的早叭下去了XDDD\n",
            "Mirashe225 笑死 是導演本人哈哈哈哈\n",
            "Terry950614 有夠難看的卡通，不服來辯\n",
            "amdymark 就是有你這不守規矩的天竺鼠!!\n",
            "st0871720n ？？？？？？？？？？？？\n",
            "Ethan836304 ........................................................\n",
            "force28aa 天竺鼠真的是這個聲音\n",
            "ADFJAPOHNV0 ？？？？？？？？？？\n",
            "kamiko093115 救護車鼠鼠也太可愛～～\n",
            "sunshineday 乾　居然還有救護車ｘＤ\n",
            "Ethan836304 ..................................................\n",
            "FURY2717666 連天竺鼠的呼嚕聲都有 神作w\n",
            "yau8212 515151515151\n",
            "Ethan836304 ,,,,,,,,,,,,,,,,,,,\n",
            "Anuahs 這種單向車道對撞飛出去就完了\n",
            "Ethan836304  vchchcghnbvvhmvvbvvvnvnvnvn\n",
            "snake024 救護鼠鼠好可愛!!!救命!!!\n",
            "kai7718 救護車要讓啊!!!!!\n",
            "WeiYa0511 那個鼻子我真的受不了\n",
            "crazyland 你對著人家的屁股看？\n",
            "saiyuu 仔細看名單這位該不會是動畫導演吧ww\n",
            "wghh yagoo!!!!!\n",
            "Ethan836304 vjmvhvhghjvhgvghjcgchjhjgvghc\n",
            "Mickey5487 ????????????????????\n",
            "sh29258356 裡面的景象太嚴肅了有笑點(?\n",
            "Zakacornnn 車子內部都是肉色的耶...恐\n",
            "qaz71930 嘴巴太可愛了吧wwwwwwwww\n",
            "bightj55430 這顏藝我直接噴飯wwwwww\n",
            "Richi4288 嘴巴開開也太可愛wwwwww\n",
            "archmek 救護車鼠鼠哭哭Q_Q\n",
            "zxcvbnm89757 5151515151\n",
            "s5984102158 別晃了,人會被你晃掛阿\n",
            "allen080380 靠北阿！ 是不會下車喔\n",
            "SamF40 水喔，跟台灣人一樣不會讓路\n",
            "momokoasos 哭哭好可愛!!!!!\n",
            "ec911105 太可愛了(*๓´╰╯`๓)♡\n",
            "snake024 Q爆!!!!救命!!我要瘋!!!\n",
            "Ethan836304 bvvhfhtr65363454353sxgfchnhvjmvhjmvjhvjhvjhvjhvjhvjhvj\n",
            "joy880427 stack 的 運作方式(X\n",
            "a35562eok270 這段應該放you say run的\n",
            "lingpiangu 傷者家屬：？？？？？\n",
            "betty89661 其實根本不用方向盤嘛😂車自己就會跑走\n",
            "xj4su6u83 西羅摩的眼睛被你頂出來了啦喂XDD\n",
            "juice201279 每一隻都有自己的造型好可愛\n",
            "ayahsu 裡面的人是裝飾吧，車都自己來的XDDD\n",
            "winne91438 最近推特上一堆這個www\n",
            "qazwsx199786 7777777777777\n",
            "lelp5566 幹這什麼動畫啊！一集就花了我三十分鐘！\n",
            "bightj55430 這集教會我們如何解決塞車\n",
            "snake024 腳動超快www可愛死惹>////<\n",
            "afds9876 欸不是!?!? 到底???\n",
            "yeh318b 覺得會被靜電電爆XDD\n",
            "ericheee 原來這就是解決塞車的方法\n",
            "mydiesky 什麼時候推周邊（興奮\n",
            "kenny830503 ???????????????\n",
            "CoffeeCat030 喔原來塞車是這樣解決的啊欸不是吧\n",
            "DKLin0218 為什麼我會覺得有心動的港覺\n",
            "mickychu9494 原來我們平常的開車方式都錯了\n",
            "z0070420 ??????????????????????????????????\n",
            "moya0625 666(=^･ｪ･^=)\n",
            "turtlebj4 不能跟救護車吧 這不是違法嗎??\n",
            "bightj55430 撸貓動作細膩，給動畫組加一把蔬菜\n",
            "h589214 <------------------------巨貓\n",
            "a82380 ???????????\n",
            "steven2712 我怎麼現在才遇到這部作品XDDDDDDDD\n",
            "Redcarp24 誰說烏德的你出來wwwwww\n",
            "seazilicy 那個說烏德的你有良心嗎你\n",
            "qqq5632 沒違法吧，綠燈了啊 是那台車在擋路\n",
            "lingpiangu 說烏德的我們好好談談\n",
            "na1997na2 天竺鼠自己也沒在注意路況啊www 還肇逃\n",
            "world326001 人像是排便一樣排出來\n",
            "zxcv12595 轟隆隆隆衝衝衝衝拉風引擎發動\n",
            "Pomero877 有毒阿！！！乾！！！\n",
            "zmzzxcvbn126 看把車子嚇跑了XDDDDD\n",
            "world326001 鼠鼠嚇到WWWWWWWW\n",
            "azo6227 本季霸權預定XDD笑死\n",
            "cute77mouse wwwwwwwwwwwwww爆笑XDDDD太可愛了~~~\n",
            "whitesand 真的不需要駕駛了www\n",
            "eggplant171 Wait! Wait!\n",
            "qawsedrf39 FBI open up!!!\n",
            "kuanyu212 三寶欠抓wwwwwwww\n",
            "kalldy 我到底看了尛..好ㄎㄧㄤ...\n",
            "x23202026 汽車駕駛人新臺幣三千六百元罰鍰\n",
            "sirabyousi 警察: 時間快到啦收割收割\n",
            "scott910802 I can’t breath\n",
            "cheninda1234 有一個警察把頭塞在另一個人的跨下wwwww\n",
            "j29839220 右邊那個是貼在人家屁股上嗎\n",
            "sh29258356 也出動太多警察了吧XD\n",
            "nan44503 開車再給我不專心啊www\n",
            "Ving2005 請問這是三小啦啦啦啦啦啦啦！！！！！\n",
            "s98b12 剛剛趴下來的樣子豪可愛…\n",
            "zxc45845 頭探出窗外最高可罰9000元\n",
            "jumo1013 我是誰 我在哪 這是什麼...\n",
            "ing9520 下面那個罰9000的你等等\n",
            "azo6227 等等 我麵還沒泡好就沒了\n",
            "Lisa88052468 耳機大哥是監督本人耶XDDDDDD\n",
            "gracelee823 乾好可愛wwwww 神作確定!!!\n",
            "Emily36701 果然是小孩子看的動畫 不用動腦就能看了\n",
            "cherubicnyo7 這時間小偷!體感5秒而已OAO\n",
            "happy0356 好有魔力害我重看3次\n",
            "luhan420112 被我弟叫來看的 結果好好看\n",
            "wrt901015 這麼可愛的東西給我來一大\n",
            "Jfungame22 ??????????\n",
            "b980403 對啊！就是兒童節目啊！!\n",
            "howard7266 ???????????\n",
            "oo23456 巴哈最新毒品上市!!\n",
            "Sweeny0227 感謝飛天小竺鼠的努力～今天又是和平的一天\n",
            "pinitoast 本季大佬 可愛的同時又有毒\n",
            "esakura 彈幕毀了這幕wwwww((稱讚意味\n",
            "wowobi0627 好可愛啊~~~決定追起乃啦\n",
            "jasonkuang 體感兩分鐘 本來就兩分鐘\n"
          ]
        }
      ]
    },
    {
      "cell_type": "code",
      "source": [
        "# list詳細操作\n",
        "scores = [30, 20, 80, 60]\n",
        "print(scores[0])\n",
        "# 瑣碎功能\n",
        "print(len(scores))\n",
        "print(sum(scores), max(scores), min(scores))\n",
        "# 如果我always要取整list的最後一個\n",
        "# scores[len(scores)-1]\n",
        "# 其實除了正向key, python還幫你預設了反向key\n",
        "print(scores[-1])"
      ],
      "metadata": {
        "colab": {
          "base_uri": "https://localhost:8080/"
        },
        "id": "czENjmfNgw8G",
        "outputId": "a9bd40da-885b-494a-cb91-2def7f0c6bc1"
      },
      "execution_count": 12,
      "outputs": [
        {
          "output_type": "stream",
          "name": "stdout",
          "text": [
            "30\n",
            "4\n",
            "190 80 20\n",
            "60\n"
          ]
        }
      ]
    },
    {
      "cell_type": "code",
      "source": [
        "scores = [80, 60, 20, 30]\n",
        "\n",
        "count = 0\n",
        "i = 0\n",
        "while i < len(scores):\n",
        "    # 缺點: 如果一群東西是不能用 [0] [1] [2]去指定\n",
        "    c = scores[i]\n",
        "    if c >= 60:\n",
        "        count = count + 1\n",
        "    i = i + 1\n",
        "print(count)\n",
        "\n",
        "# 改進: 走過 for 名稱 in 群(str/list)\n",
        "count = 0\n",
        "for c in scores:\n",
        "    if c >= 60:\n",
        "        count = count + 1\n",
        "print(count)"
      ],
      "metadata": {
        "colab": {
          "base_uri": "https://localhost:8080/"
        },
        "id": "qCej1vRBjcDO",
        "outputId": "7327c5f5-41d9-4ac9-c1db-e688d8477dcf"
      },
      "execution_count": 14,
      "outputs": [
        {
          "output_type": "stream",
          "name": "stdout",
          "text": [
            "2\n",
            "2\n"
          ]
        }
      ]
    },
    {
      "cell_type": "code",
      "source": [
        "total = 0\n",
        "i = 0\n",
        "while i < 10:\n",
        "    total = total + (i + 1)\n",
        "    i = i + 1\n",
        "print(total)\n",
        "\n",
        "# !!! range(5): [0, 1, 2, 3, 4]\n",
        "# range(5, 10): [5, 6, 7, 8, 9]\n",
        "# range(2, 11, 3): [2, 5, 8]\n",
        "total = 0\n",
        "for i in range(10):\n",
        "    total = total + (i + 1)\n",
        "print(total)"
      ],
      "metadata": {
        "colab": {
          "base_uri": "https://localhost:8080/"
        },
        "id": "R62WhwNonnLy",
        "outputId": "0e7369d0-cddf-496f-9b49-5838945bf1fe"
      },
      "execution_count": 16,
      "outputs": [
        {
          "output_type": "stream",
          "name": "stdout",
          "text": [
            "55\n",
            "55\n"
          ]
        }
      ]
    },
    {
      "cell_type": "markdown",
      "source": [
        "\n",
        "\n",
        "```\n",
        "1. 走過一群: for 名稱 in 群\n",
        "2. 固定次數: for i in range(次)\n",
        "3. 其他條件: while True+break\n",
        "```\n",
        "\n"
      ],
      "metadata": {
        "id": "Lja0PjDpqLNQ"
      }
    },
    {
      "cell_type": "code",
      "source": [
        "# [學生, 學生, 學生]\n",
        "# 把它分割成小單位, 然後使用\"字典型態\"把它聚集再一起\n",
        "# 每個小單位你要幫他設定一個key  key:value\n",
        "# 字典(dict)型態: 表示複雜的東西\n",
        "student = {\n",
        "    \"height\":175,\n",
        "    \"姓名\":\"Elwing\"\n",
        "}\n",
        "print(student)\n",
        "\n",
        "print(student[\"姓名\"])\n",
        "student[\"weight\"] = 73\n",
        "print(student)"
      ],
      "metadata": {
        "colab": {
          "base_uri": "https://localhost:8080/"
        },
        "id": "tiXi3B4KuceV",
        "outputId": "0e6a52be-8de9-443f-fb1c-cd440cab8ecf"
      },
      "execution_count": 18,
      "outputs": [
        {
          "output_type": "stream",
          "name": "stdout",
          "text": [
            "{'height': 175, '姓名': 'Elwing'}\n",
            "Elwing\n",
            "{'height': 175, '姓名': 'Elwing', 'weight': 73}\n"
          ]
        }
      ]
    }
  ]
}