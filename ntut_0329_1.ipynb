{
  "nbformat": 4,
  "nbformat_minor": 0,
  "metadata": {
    "colab": {
      "provenance": [],
      "authorship_tag": "ABX9TyOux7ALt8XApfiQJGOanDzH",
      "include_colab_link": true
    },
    "kernelspec": {
      "name": "python3",
      "display_name": "Python 3"
    },
    "language_info": {
      "name": "python"
    }
  },
  "cells": [
    {
      "cell_type": "markdown",
      "metadata": {
        "id": "view-in-github",
        "colab_type": "text"
      },
      "source": [
        "<a href=\"https://colab.research.google.com/github/Elwing-Chou/ntut0315/blob/main/ntut_0329_1.ipynb\" target=\"_parent\"><img src=\"https://colab.research.google.com/assets/colab-badge.svg\" alt=\"Open In Colab\"/></a>"
      ]
    },
    {
      "cell_type": "markdown",
      "source": [
        "\n",
        "\n",
        "```\n",
        "檔案讀取/寫入\n",
        "\n",
        "1. 編碼: 以前每個國家有自己編碼(繁體中文:BIG5)\n",
        "  會很容易亂碼(編碼=/=解碼)\n",
        "      現在全世界都使用同一套編碼 萬國編碼(Unicode)裡面utf-8\n",
        "```\n",
        "\n"
      ],
      "metadata": {
        "id": "lewGrBWfUXQn"
      }
    },
    {
      "cell_type": "code",
      "execution_count": 1,
      "metadata": {
        "id": "qAgaXQZeUOKn"
      },
      "outputs": [],
      "source": [
        "# 專屬功能\n",
        "f = open(\"a.txt\", \"w\", encoding=\"utf-8\")\n",
        "# 以前功能: write(f, \"hello\")\n",
        "# 專屬於某種型態功能: f.write(\"hello\")\n",
        "f.write(\"hello\")\n",
        "# 以前: close(f)\n",
        "# 專屬功能: f.close()\n",
        "f.close()"
      ]
    }
  ]
}