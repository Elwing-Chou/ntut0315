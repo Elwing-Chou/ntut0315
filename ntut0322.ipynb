{
  "nbformat": 4,
  "nbformat_minor": 0,
  "metadata": {
    "colab": {
      "provenance": [],
      "authorship_tag": "ABX9TyOJccUAID/jqYPnknsuddLh",
      "include_colab_link": true
    },
    "kernelspec": {
      "name": "python3",
      "display_name": "Python 3"
    },
    "language_info": {
      "name": "python"
    }
  },
  "cells": [
    {
      "cell_type": "markdown",
      "metadata": {
        "id": "view-in-github",
        "colab_type": "text"
      },
      "source": [
        "<a href=\"https://colab.research.google.com/github/Elwing-Chou/ntut0315/blob/main/ntut0322.ipynb\" target=\"_parent\"><img src=\"https://colab.research.google.com/assets/colab-badge.svg\" alt=\"Open In Colab\"/></a>"
      ]
    },
    {
      "cell_type": "markdown",
      "source": [
        "\n",
        "```\n",
        "重複(迴圈)\n",
        "\n",
        "計數器概念\n",
        "1. 開始: i = 0\n",
        "2. 增加: i = i + 1\n",
        "3. 結束(什麼時候要繼續): i < 10\n",
        "* 基本上我很少寫i+=1 i++, 因為我覺得這個相對不好看\n",
        "\n",
        "i = 0\n",
        "while i < 10:\n",
        "    print(\"hello\")\n",
        "    i = i + 1\n",
        "\n",
        "* 寫成是最重要: 好習慣(一個寫法千萬不動)\n",
        "在寫迴圈的時候, 你開始/增加/結束絕對不動\n",
        "!!! 次數: 次數就在<後面\n",
        "!!! i=0...次-1\n",
        "\n",
        "e.g. i=1...10: i + 1\n",
        "e.g. i=10...1: 10 - i\n",
        "e.g. i=1 3 5 ...: 2 * i + 1\n",
        "\n",
        "```\n"
      ],
      "metadata": {
        "id": "7OW444ABbsVQ"
      }
    },
    {
      "cell_type": "code",
      "execution_count": 2,
      "metadata": {
        "colab": {
          "base_uri": "https://localhost:8080/"
        },
        "id": "giYZ1lxtbFvE",
        "outputId": "2a8cb199-d2a9-49ae-c2e4-48df4abd6a1d"
      },
      "outputs": [
        {
          "output_type": "stream",
          "name": "stdout",
          "text": [
            "3\n",
            "5\n"
          ]
        }
      ],
      "source": [
        "# 你只要沒有做=, 基本上值不會改變\n",
        "a = 3\n",
        "b = a + 2\n",
        "print(a)\n",
        "print(b)"
      ]
    },
    {
      "cell_type": "code",
      "source": [
        "i = 0\n",
        "while i < 10:\n",
        "    print(i, i+1, 10-i, \"hello\")\n",
        "    i = i + 1"
      ],
      "metadata": {
        "id": "TjMLl2YReUZJ"
      },
      "execution_count": null,
      "outputs": []
    },
    {
      "cell_type": "markdown",
      "source": [
        "```\n",
        "*\n",
        "**\n",
        "***\n",
        "****\n",
        "```"
      ],
      "metadata": {
        "id": "NoQye8w7ltuq"
      }
    },
    {
      "cell_type": "code",
      "source": [
        "# 其實也應該印空白建, 因為這四種變形都是同一題\n",
        "i = 0\n",
        "while i < 10:\n",
        "    print(\"x\" * (i + 1))\n",
        "    i = i + 1"
      ],
      "metadata": {
        "id": "0tjFu3syl02A"
      },
      "execution_count": null,
      "outputs": []
    },
    {
      "cell_type": "markdown",
      "source": [
        "```\n",
        "幫我做\n",
        "ooo*\n",
        "oo**\n",
        "o***\n",
        "****\n",
        "\n",
        "```"
      ],
      "metadata": {
        "id": "GUEbo9QJmgk5"
      }
    },
    {
      "cell_type": "code",
      "source": [
        "# 待優化\n",
        "i = 0\n",
        "while i < 10:\n",
        "    print(\" \" * (9 - i) + \"x\" * (i + 1))\n",
        "    i = i + 1"
      ],
      "metadata": {
        "colab": {
          "base_uri": "https://localhost:8080/"
        },
        "id": "yUvU7QtBqjIM",
        "outputId": "1071e721-a46e-44bc-f5cc-1c86df8a8406"
      },
      "execution_count": 11,
      "outputs": [
        {
          "output_type": "stream",
          "name": "stdout",
          "text": [
            "         x\n",
            "        xx\n",
            "       xxx\n",
            "      xxxx\n",
            "     xxxxx\n",
            "    xxxxxx\n",
            "   xxxxxxx\n",
            "  xxxxxxxx\n",
            " xxxxxxxxx\n",
            "xxxxxxxxxx\n"
          ]
        }
      ]
    },
    {
      "cell_type": "code",
      "source": [
        "# 優化\n",
        "left, right = \" \", \"x\"\n",
        "layer = 10\n",
        "i = 0\n",
        "while i < layer:\n",
        "    lcount = layer - i - 1\n",
        "    rcount = i + 1\n",
        "    print(left * lcount + right * rcount)\n",
        "    i = i + 1"
      ],
      "metadata": {
        "id": "cllUFMj3rU5N"
      },
      "execution_count": null,
      "outputs": []
    },
    {
      "cell_type": "code",
      "source": [
        "# 變形\n",
        "left, right = \" \", \"x\"\n",
        "layer = 10\n",
        "i = 0\n",
        "while i < layer:\n",
        "    lcount = i\n",
        "    rcount = layer - i\n",
        "    print(left * lcount + right * rcount)\n",
        "    i = i + 1\n",
        "\n",
        "# 變形2\n",
        "layer = 10\n",
        "i = 0\n",
        "while i < layer:\n",
        "    # symbol set\n",
        "    if i % 2 == 0:\n",
        "        left, right = \" \", \"x\"\n",
        "    else:\n",
        "        left, right = \" \", \"o\"\n",
        "    lcount = i\n",
        "    rcount = layer - i\n",
        "    print(left * lcount + right * rcount)\n",
        "    i = i + 1\n",
        "\n",
        "# 變形3\n",
        "import random\n",
        "lsymbols = [\" \"]\n",
        "rsymbols = [\"o\", \"x\", \"u\", \"s\"]\n",
        "# random.randint(0, len(rsymbols)-1)\n",
        "layer = 10\n",
        "i = 0\n",
        "while i < layer:\n",
        "    # 隨機一個0-3的數字, 接著拿出對應在list的東西 lsymbols[0-3]\n",
        "    left = lsymbols[random.randint(0, len(lsymbols)-1)]\n",
        "    right = rsymbols[random.randint(0, len(rsymbols)-1)]\n",
        "    lcount = i\n",
        "    rcount = layer - i\n",
        "    print(left * lcount + right * rcount)\n",
        "    i = i + 1"
      ],
      "metadata": {
        "colab": {
          "base_uri": "https://localhost:8080/"
        },
        "id": "_4np2kYJtHwM",
        "outputId": "84421ceb-7d1f-4436-8b1e-748a54049a1d"
      },
      "execution_count": 18,
      "outputs": [
        {
          "output_type": "stream",
          "name": "stdout",
          "text": [
            "xxxxxxxxxx\n",
            " xxxxxxxxx\n",
            "  xxxxxxxx\n",
            "   xxxxxxx\n",
            "    xxxxxx\n",
            "     xxxxx\n",
            "      xxxx\n",
            "       xxx\n",
            "        xx\n",
            "         x\n",
            "xxxxxxxxxx\n",
            " ooooooooo\n",
            "  xxxxxxxx\n",
            "   ooooooo\n",
            "    xxxxxx\n",
            "     ooooo\n",
            "      xxxx\n",
            "       ooo\n",
            "        xx\n",
            "         o\n",
            "uuuuuuuuuu\n",
            " xxxxxxxxx\n",
            "  oooooooo\n",
            "   ooooooo\n",
            "    xxxxxx\n",
            "     sssss\n",
            "      ssss\n",
            "       xxx\n",
            "        oo\n",
            "         s\n"
          ]
        }
      ]
    },
    {
      "cell_type": "markdown",
      "source": [
        "```\n",
        "oo*oo\n",
        "o***o\n",
        "*****\n",
        "\n",
        "\n",
        "*****\n",
        "o***o\n",
        "oo*oo\n",
        "```"
      ],
      "metadata": {
        "id": "YhBY2RLqw53D"
      }
    },
    {
      "cell_type": "code",
      "source": [
        "left, mid, right = \" \", \"x\", \" \"\n",
        "layer = 10\n",
        "i = 0\n",
        "while i < layer:\n",
        "    lcount = i\n",
        "    # 首曾: 2 * layer - 1\n",
        "    mcount = (2 * layer - 1) - 2 * i\n",
        "    rcount = i\n",
        "    print(left * lcount +\n",
        "       mid * mcount +\n",
        "       right * rcount)\n",
        "    i = i + 1"
      ],
      "metadata": {
        "colab": {
          "base_uri": "https://localhost:8080/"
        },
        "id": "MhjcCtUP2B3m",
        "outputId": "8f9c71cc-9954-474b-bb1d-db5798774096"
      },
      "execution_count": 22,
      "outputs": [
        {
          "output_type": "stream",
          "name": "stdout",
          "text": [
            "xxxxxxxxxxxxxxxxxxx\n",
            " xxxxxxxxxxxxxxxxx \n",
            "  xxxxxxxxxxxxxxx  \n",
            "   xxxxxxxxxxxxx   \n",
            "    xxxxxxxxxxx    \n",
            "     xxxxxxxxx     \n",
            "      xxxxxxx      \n",
            "       xxxxx       \n",
            "        xxx        \n",
            "         x         \n"
          ]
        }
      ]
    },
    {
      "cell_type": "markdown",
      "source": [
        "```\n",
        "part 2: 累積\n",
        "\n",
        "這個需要累積的東西: 你都要準備一個名稱(迴圈外)去接\n",
        "\n",
        "```"
      ],
      "metadata": {
        "id": "cHwkIWTv7RSY"
      }
    },
    {
      "cell_type": "code",
      "source": [
        "total = 0\n",
        "\n",
        "i = 0\n",
        "while i < 10:\n",
        "    # 每次要家的數字: i + 1\n",
        "    total = total + (i + 1)\n",
        "    print(total)\n",
        "    i = i + 1"
      ],
      "metadata": {
        "colab": {
          "base_uri": "https://localhost:8080/"
        },
        "id": "G4AIMctq8X0Y",
        "outputId": "d23e5c17-98bf-48d4-becc-ed0bffbf80b1"
      },
      "execution_count": 25,
      "outputs": [
        {
          "output_type": "stream",
          "name": "stdout",
          "text": [
            "1\n",
            "3\n",
            "6\n",
            "10\n",
            "15\n",
            "21\n",
            "28\n",
            "36\n",
            "45\n",
            "55\n"
          ]
        }
      ]
    },
    {
      "cell_type": "code",
      "source": [
        "a, b = 37, 7\n",
        "result = str(a // b) + \".\"\n",
        "a = a % b\n",
        "\n",
        "i = 0\n",
        "while i < 10:\n",
        "    # 2 -> 20\n",
        "    a10 = a * 10\n",
        "    # 20 // 7 -> 0.2\n",
        "    result = result + str(a10 // b)\n",
        "    print(result)\n",
        "    # 20 % 7 -> 6\n",
        "    a = a10 % b\n",
        "    i = i + 1"
      ],
      "metadata": {
        "colab": {
          "base_uri": "https://localhost:8080/"
        },
        "id": "ogunpLJDPpql",
        "outputId": "a958e1f9-685b-4909-b5d5-fec59b1a24c4"
      },
      "execution_count": 28,
      "outputs": [
        {
          "output_type": "stream",
          "name": "stdout",
          "text": [
            "5.2\n",
            "5.28\n",
            "5.285\n",
            "5.2857\n",
            "5.28571\n",
            "5.285714\n",
            "5.2857142\n",
            "5.28571428\n",
            "5.285714285\n",
            "5.2857142857\n"
          ]
        }
      ]
    },
    {
      "cell_type": "code",
      "source": [
        "import random\n",
        "\n",
        "count0 = 0\n",
        "count1 = 0\n",
        "count2 = 0\n",
        "\n",
        "times = 999\n",
        "i = 0\n",
        "while i < times:\n",
        "    n = random.randint(0, 2)\n",
        "    if n == 0:\n",
        "        count0 = count0 + 1\n",
        "    elif n == 1:\n",
        "        count1 = count1 + 1\n",
        "    elif n == 2:\n",
        "        count2 = count2 + 1\n",
        "    i = i + 1\n",
        "print(count0, count1, count2)"
      ],
      "metadata": {
        "colab": {
          "base_uri": "https://localhost:8080/"
        },
        "id": "stl0sRa2W4-_",
        "outputId": "baa4d938-b96c-45d3-e39a-c1e37934b3f6"
      },
      "execution_count": 34,
      "outputs": [
        {
          "output_type": "stream",
          "name": "stdout",
          "text": [
            "334 340 325\n"
          ]
        }
      ]
    },
    {
      "cell_type": "code",
      "source": [
        "import random\n",
        "\n",
        "kind = 10\n",
        "result = [0] * kind\n",
        "# result[1] = result[1] + 1\n",
        "times = 1000\n",
        "i = 0\n",
        "while i < times:\n",
        "    n = random.randint(0, kind-1)\n",
        "    result[n] = result[n] + 1\n",
        "    i = i + 1\n",
        "print(result)"
      ],
      "metadata": {
        "colab": {
          "base_uri": "https://localhost:8080/"
        },
        "id": "VtM9IkEDaLTK",
        "outputId": "74a0e292-5e56-48ab-ce3f-d2063bb5c521"
      },
      "execution_count": 41,
      "outputs": [
        {
          "output_type": "stream",
          "name": "stdout",
          "text": [
            "[109, 108, 106, 108, 103, 92, 91, 94, 83, 106]\n"
          ]
        }
      ]
    },
    {
      "cell_type": "markdown",
      "source": [
        "![aa.png](data:image/png;base64,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)"
      ],
      "metadata": {
        "id": "eMEyzIIliWsq"
      }
    },
    {
      "cell_type": "markdown",
      "source": [
        "```\n",
        "假設你在走樓梯的時候, 1. 走一步  2. 走兩步\n",
        "\n",
        "假設你有10階\n",
        "\n",
        "走到1: (1)\n",
        "  2: (1, 1), (2, 0)\n",
        "  3: (1, 1, 1), (2, 0, 1) 2多家1\n",
        "    (1, 2) 1多家2不\n",
        "  4: 3多家1\n",
        "    2多家兩部\n",
        "\n",
        "簡化成費波納契數列\n",
        "```"
      ],
      "metadata": {
        "id": "jyW9nd27iZGK"
      }
    },
    {
      "cell_type": "code",
      "source": [
        "total = 100\n",
        "series = [0] * total\n",
        "\n",
        "i = 0\n",
        "while i < total:\n",
        "    if i == 0:\n",
        "        series[i] = 1\n",
        "    elif i == 1:\n",
        "        series[i] = 2\n",
        "    else:\n",
        "        series[i] = series[i-1] + series[i-2]\n",
        "    i = i + 1\n",
        "print(series)"
      ],
      "metadata": {
        "colab": {
          "base_uri": "https://localhost:8080/"
        },
        "id": "y_QuBD_zjL3Q",
        "outputId": "ccd3f830-121e-4064-9180-e3a87d66b9ab"
      },
      "execution_count": 44,
      "outputs": [
        {
          "output_type": "stream",
          "name": "stdout",
          "text": [
            "[1, 2, 3, 5, 8, 13, 21, 34, 55, 89, 144, 233, 377, 610, 987, 1597, 2584, 4181, 6765, 10946, 17711, 28657, 46368, 75025, 121393, 196418, 317811, 514229, 832040, 1346269, 2178309, 3524578, 5702887, 9227465, 14930352, 24157817, 39088169, 63245986, 102334155, 165580141, 267914296, 433494437, 701408733, 1134903170, 1836311903, 2971215073, 4807526976, 7778742049, 12586269025, 20365011074, 32951280099, 53316291173, 86267571272, 139583862445, 225851433717, 365435296162, 591286729879, 956722026041, 1548008755920, 2504730781961, 4052739537881, 6557470319842, 10610209857723, 17167680177565, 27777890035288, 44945570212853, 72723460248141, 117669030460994, 190392490709135, 308061521170129, 498454011879264, 806515533049393, 1304969544928657, 2111485077978050, 3416454622906707, 5527939700884757, 8944394323791464, 14472334024676221, 23416728348467685, 37889062373143906, 61305790721611591, 99194853094755497, 160500643816367088, 259695496911122585, 420196140727489673, 679891637638612258, 1100087778366101931, 1779979416004714189, 2880067194370816120, 4660046610375530309, 7540113804746346429, 12200160415121876738, 19740274219868223167, 31940434634990099905, 51680708854858323072, 83621143489848422977, 135301852344706746049, 218922995834555169026, 354224848179261915075, 573147844013817084101]\n"
          ]
        }
      ]
    }
  ]
}