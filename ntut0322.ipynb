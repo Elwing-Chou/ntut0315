{
  "nbformat": 4,
  "nbformat_minor": 0,
  "metadata": {
    "colab": {
      "provenance": [],
      "authorship_tag": "ABX9TyPm7mR5/sjo7BTM4C+uK/SJ",
      "include_colab_link": true
    },
    "kernelspec": {
      "name": "python3",
      "display_name": "Python 3"
    },
    "language_info": {
      "name": "python"
    }
  },
  "cells": [
    {
      "cell_type": "markdown",
      "metadata": {
        "id": "view-in-github",
        "colab_type": "text"
      },
      "source": [
        "<a href=\"https://colab.research.google.com/github/Elwing-Chou/ntut0315/blob/main/ntut0322.ipynb\" target=\"_parent\"><img src=\"https://colab.research.google.com/assets/colab-badge.svg\" alt=\"Open In Colab\"/></a>"
      ]
    },
    {
      "cell_type": "markdown",
      "source": [
        "\n",
        "```\n",
        "重複(迴圈)\n",
        "\n",
        "計數器概念\n",
        "1. 開始: i = 0\n",
        "2. 增加: i = i + 1\n",
        "3. 結束(什麼時候要繼續): i < 10\n",
        "* 基本上我很少寫i+=1 i++, 因為我覺得這個相對不好看\n",
        "\n",
        "i = 0\n",
        "while i < 10:\n",
        "    print(\"hello\")\n",
        "    i = i + 1\n",
        "\n",
        "* 寫成是最重要: 好習慣(一個寫法千萬不動)\n",
        "在寫迴圈的時候, 你開始/增加/結束絕對不動\n",
        "!!! 次數: 次數就在<後面\n",
        "!!! i=0...次-1\n",
        "\n",
        "e.g. i=1...10: i + 1\n",
        "e.g. i=10...1: 10 - i\n",
        "e.g. i=1 3 5 ...: 2 * i + 1\n",
        "\n",
        "```\n"
      ],
      "metadata": {
        "id": "7OW444ABbsVQ"
      }
    },
    {
      "cell_type": "code",
      "execution_count": 2,
      "metadata": {
        "colab": {
          "base_uri": "https://localhost:8080/"
        },
        "id": "giYZ1lxtbFvE",
        "outputId": "2a8cb199-d2a9-49ae-c2e4-48df4abd6a1d"
      },
      "outputs": [
        {
          "output_type": "stream",
          "name": "stdout",
          "text": [
            "3\n",
            "5\n"
          ]
        }
      ],
      "source": [
        "# 你只要沒有做=, 基本上值不會改變\n",
        "a = 3\n",
        "b = a + 2\n",
        "print(a)\n",
        "print(b)"
      ]
    },
    {
      "cell_type": "code",
      "source": [
        "i = 0\n",
        "while i < 10:\n",
        "    print(i, i+1, 10-i, \"hello\")\n",
        "    i = i + 1"
      ],
      "metadata": {
        "id": "TjMLl2YReUZJ"
      },
      "execution_count": null,
      "outputs": []
    },
    {
      "cell_type": "markdown",
      "source": [
        "```\n",
        "*\n",
        "**\n",
        "***\n",
        "****\n",
        "```"
      ],
      "metadata": {
        "id": "NoQye8w7ltuq"
      }
    },
    {
      "cell_type": "code",
      "source": [
        "# 其實也應該印空白建, 因為這四種變形都是同一題\n",
        "i = 0\n",
        "while i < 10:\n",
        "    print(\"x\" * (i + 1))\n",
        "    i = i + 1"
      ],
      "metadata": {
        "id": "0tjFu3syl02A"
      },
      "execution_count": null,
      "outputs": []
    },
    {
      "cell_type": "markdown",
      "source": [
        "```\n",
        "幫我做\n",
        "ooo*\n",
        "oo**\n",
        "o***\n",
        "****\n",
        "\n",
        "```"
      ],
      "metadata": {
        "id": "GUEbo9QJmgk5"
      }
    },
    {
      "cell_type": "code",
      "source": [
        "# 待優化\n",
        "i = 0\n",
        "while i < 10:\n",
        "    print(\" \" * (9 - i) + \"x\" * (i + 1))\n",
        "    i = i + 1"
      ],
      "metadata": {
        "colab": {
          "base_uri": "https://localhost:8080/"
        },
        "id": "yUvU7QtBqjIM",
        "outputId": "1071e721-a46e-44bc-f5cc-1c86df8a8406"
      },
      "execution_count": 11,
      "outputs": [
        {
          "output_type": "stream",
          "name": "stdout",
          "text": [
            "         x\n",
            "        xx\n",
            "       xxx\n",
            "      xxxx\n",
            "     xxxxx\n",
            "    xxxxxx\n",
            "   xxxxxxx\n",
            "  xxxxxxxx\n",
            " xxxxxxxxx\n",
            "xxxxxxxxxx\n"
          ]
        }
      ]
    },
    {
      "cell_type": "code",
      "source": [
        "# 優化\n",
        "left, right = \" \", \"x\"\n",
        "layer = 10\n",
        "i = 0\n",
        "while i < layer:\n",
        "    lcount = layer - i - 1\n",
        "    rcount = i + 1\n",
        "    print(left * lcount + right * rcount)\n",
        "    i = i + 1"
      ],
      "metadata": {
        "id": "cllUFMj3rU5N"
      },
      "execution_count": null,
      "outputs": []
    },
    {
      "cell_type": "code",
      "source": [
        "# 變形\n",
        "left, right = \" \", \"x\"\n",
        "layer = 10\n",
        "i = 0\n",
        "while i < layer:\n",
        "    lcount = i\n",
        "    rcount = layer - i\n",
        "    print(left * lcount + right * rcount)\n",
        "    i = i + 1\n",
        "\n",
        "# 變形2\n",
        "layer = 10\n",
        "i = 0\n",
        "while i < layer:\n",
        "    # symbol set\n",
        "    if i % 2 == 0:\n",
        "        left, right = \" \", \"x\"\n",
        "    else:\n",
        "        left, right = \" \", \"o\"\n",
        "    lcount = i\n",
        "    rcount = layer - i\n",
        "    print(left * lcount + right * rcount)\n",
        "    i = i + 1\n",
        "\n",
        "# 變形3\n",
        "import random\n",
        "lsymbols = [\" \"]\n",
        "rsymbols = [\"o\", \"x\", \"u\", \"s\"]\n",
        "# random.randint(0, len(rsymbols)-1)\n",
        "layer = 10\n",
        "i = 0\n",
        "while i < layer:\n",
        "    # 隨機一個0-3的數字, 接著拿出對應在list的東西 lsymbols[0-3]\n",
        "    left = lsymbols[random.randint(0, len(lsymbols)-1)]\n",
        "    right = rsymbols[random.randint(0, len(rsymbols)-1)]\n",
        "    lcount = i\n",
        "    rcount = layer - i\n",
        "    print(left * lcount + right * rcount)\n",
        "    i = i + 1"
      ],
      "metadata": {
        "colab": {
          "base_uri": "https://localhost:8080/"
        },
        "id": "_4np2kYJtHwM",
        "outputId": "84421ceb-7d1f-4436-8b1e-748a54049a1d"
      },
      "execution_count": 18,
      "outputs": [
        {
          "output_type": "stream",
          "name": "stdout",
          "text": [
            "xxxxxxxxxx\n",
            " xxxxxxxxx\n",
            "  xxxxxxxx\n",
            "   xxxxxxx\n",
            "    xxxxxx\n",
            "     xxxxx\n",
            "      xxxx\n",
            "       xxx\n",
            "        xx\n",
            "         x\n",
            "xxxxxxxxxx\n",
            " ooooooooo\n",
            "  xxxxxxxx\n",
            "   ooooooo\n",
            "    xxxxxx\n",
            "     ooooo\n",
            "      xxxx\n",
            "       ooo\n",
            "        xx\n",
            "         o\n",
            "uuuuuuuuuu\n",
            " xxxxxxxxx\n",
            "  oooooooo\n",
            "   ooooooo\n",
            "    xxxxxx\n",
            "     sssss\n",
            "      ssss\n",
            "       xxx\n",
            "        oo\n",
            "         s\n"
          ]
        }
      ]
    },
    {
      "cell_type": "markdown",
      "source": [
        "```\n",
        "oo*oo\n",
        "o***o\n",
        "*****\n",
        "\n",
        "\n",
        "*****\n",
        "o***o\n",
        "oo*oo\n",
        "```"
      ],
      "metadata": {
        "id": "YhBY2RLqw53D"
      }
    },
    {
      "cell_type": "code",
      "source": [
        "left, mid, right = \" \", \"x\", \" \"\n",
        "layer = 10\n",
        "i = 0\n",
        "while i < layer:\n",
        "    lcount = i\n",
        "    # 首曾: 2 * layer - 1\n",
        "    mcount = (2 * layer - 1) - 2 * i\n",
        "    rcount = i\n",
        "    print(left * lcount +\n",
        "       mid * mcount +\n",
        "       right * rcount)\n",
        "    i = i + 1"
      ],
      "metadata": {
        "colab": {
          "base_uri": "https://localhost:8080/"
        },
        "id": "MhjcCtUP2B3m",
        "outputId": "8f9c71cc-9954-474b-bb1d-db5798774096"
      },
      "execution_count": 22,
      "outputs": [
        {
          "output_type": "stream",
          "name": "stdout",
          "text": [
            "xxxxxxxxxxxxxxxxxxx\n",
            " xxxxxxxxxxxxxxxxx \n",
            "  xxxxxxxxxxxxxxx  \n",
            "   xxxxxxxxxxxxx   \n",
            "    xxxxxxxxxxx    \n",
            "     xxxxxxxxx     \n",
            "      xxxxxxx      \n",
            "       xxxxx       \n",
            "        xxx        \n",
            "         x         \n"
          ]
        }
      ]
    },
    {
      "cell_type": "markdown",
      "source": [
        "```\n",
        "part 2: 累積\n",
        "\n",
        "這個需要累積的東西: 你都要準備一個名稱(迴圈外)去接\n",
        "\n",
        "```"
      ],
      "metadata": {
        "id": "cHwkIWTv7RSY"
      }
    },
    {
      "cell_type": "code",
      "source": [
        "total = 0\n",
        "\n",
        "i = 0\n",
        "while i < 10:\n",
        "    # 每次要家的數字: i + 1\n",
        "    total = total + (i + 1)\n",
        "    print(total)\n",
        "    i = i + 1"
      ],
      "metadata": {
        "colab": {
          "base_uri": "https://localhost:8080/"
        },
        "id": "G4AIMctq8X0Y",
        "outputId": "d23e5c17-98bf-48d4-becc-ed0bffbf80b1"
      },
      "execution_count": 25,
      "outputs": [
        {
          "output_type": "stream",
          "name": "stdout",
          "text": [
            "1\n",
            "3\n",
            "6\n",
            "10\n",
            "15\n",
            "21\n",
            "28\n",
            "36\n",
            "45\n",
            "55\n"
          ]
        }
      ]
    },
    {
      "cell_type": "code",
      "source": [
        "a, b = 37, 7\n",
        "result = str(a // b) + \".\"\n",
        "a = a % b\n",
        "\n",
        "i = 0\n",
        "while i < 10:\n",
        "    # 2 -> 20\n",
        "    a10 = a * 10\n",
        "    # 20 // 7 -> 0.2\n",
        "    result = result + str(a10 // b)\n",
        "    print(result)\n",
        "    # 20 % 7 -> 6\n",
        "    a = a10 % b\n",
        "    i = i + 1"
      ],
      "metadata": {
        "colab": {
          "base_uri": "https://localhost:8080/"
        },
        "id": "ogunpLJDPpql",
        "outputId": "a958e1f9-685b-4909-b5d5-fec59b1a24c4"
      },
      "execution_count": 28,
      "outputs": [
        {
          "output_type": "stream",
          "name": "stdout",
          "text": [
            "5.2\n",
            "5.28\n",
            "5.285\n",
            "5.2857\n",
            "5.28571\n",
            "5.285714\n",
            "5.2857142\n",
            "5.28571428\n",
            "5.285714285\n",
            "5.2857142857\n"
          ]
        }
      ]
    },
    {
      "cell_type": "code",
      "source": [
        "import random\n",
        "\n",
        "count0 = 0\n",
        "count1 = 0\n",
        "count2 = 0\n",
        "\n",
        "times = 999\n",
        "i = 0\n",
        "while i < times:\n",
        "    n = random.randint(0, 2)\n",
        "    if n == 0:\n",
        "        count0 = count0 + 1\n",
        "    elif n == 1:\n",
        "        count1 = count1 + 1\n",
        "    elif n == 2:\n",
        "        count2 = count2 + 1\n",
        "    i = i + 1\n",
        "print(count0, count1, count2)"
      ],
      "metadata": {
        "colab": {
          "base_uri": "https://localhost:8080/"
        },
        "id": "stl0sRa2W4-_",
        "outputId": "baa4d938-b96c-45d3-e39a-c1e37934b3f6"
      },
      "execution_count": 34,
      "outputs": [
        {
          "output_type": "stream",
          "name": "stdout",
          "text": [
            "334 340 325\n"
          ]
        }
      ]
    }
  ]
}