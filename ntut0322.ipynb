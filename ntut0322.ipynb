{
  "nbformat": 4,
  "nbformat_minor": 0,
  "metadata": {
    "colab": {
      "provenance": [],
      "authorship_tag": "ABX9TyNvXElD1TzV/UaU0Ec3gLFC",
      "include_colab_link": true
    },
    "kernelspec": {
      "name": "python3",
      "display_name": "Python 3"
    },
    "language_info": {
      "name": "python"
    }
  },
  "cells": [
    {
      "cell_type": "markdown",
      "metadata": {
        "id": "view-in-github",
        "colab_type": "text"
      },
      "source": [
        "<a href=\"https://colab.research.google.com/github/Elwing-Chou/ntut0315/blob/main/ntut0322.ipynb\" target=\"_parent\"><img src=\"https://colab.research.google.com/assets/colab-badge.svg\" alt=\"Open In Colab\"/></a>"
      ]
    },
    {
      "cell_type": "markdown",
      "source": [
        "\n",
        "```\n",
        "重複(迴圈)\n",
        "\n",
        "計數器概念\n",
        "1. 開始: i = 0\n",
        "2. 增加: i = i + 1\n",
        "3. 結束(什麼時候要繼續): i < 10\n",
        "* 基本上我很少寫i+=1 i++, 因為我覺得這個相對不好看\n",
        "\n",
        "i = 0\n",
        "while i < 10:\n",
        "    print(\"hello\")\n",
        "    i = i + 1\n",
        "\n",
        "* 寫成是最重要: 好習慣(一個寫法千萬不動)\n",
        "在寫迴圈的時候, 你開始/增加/結束絕對不動\n",
        "!!! 次數: 次數就在<後面\n",
        "!!! i=0...次-1\n",
        "\n",
        "e.g. i=1...10: i + 1\n",
        "e.g. i=10...1: 10 - i\n",
        "e.g. i=1 3 5 ...: 2 * i + 1\n",
        "\n",
        "```\n"
      ],
      "metadata": {
        "id": "7OW444ABbsVQ"
      }
    },
    {
      "cell_type": "code",
      "execution_count": 2,
      "metadata": {
        "colab": {
          "base_uri": "https://localhost:8080/"
        },
        "id": "giYZ1lxtbFvE",
        "outputId": "2a8cb199-d2a9-49ae-c2e4-48df4abd6a1d"
      },
      "outputs": [
        {
          "output_type": "stream",
          "name": "stdout",
          "text": [
            "3\n",
            "5\n"
          ]
        }
      ],
      "source": [
        "# 你只要沒有做=, 基本上值不會改變\n",
        "a = 3\n",
        "b = a + 2\n",
        "print(a)\n",
        "print(b)"
      ]
    },
    {
      "cell_type": "code",
      "source": [
        "i = 0\n",
        "while i < 10:\n",
        "    print(i, i+1, 10-i, \"hello\")\n",
        "    i = i + 1"
      ],
      "metadata": {
        "id": "TjMLl2YReUZJ"
      },
      "execution_count": null,
      "outputs": []
    },
    {
      "cell_type": "markdown",
      "source": [
        "```\n",
        "*\n",
        "**\n",
        "***\n",
        "****\n",
        "```"
      ],
      "metadata": {
        "id": "NoQye8w7ltuq"
      }
    },
    {
      "cell_type": "code",
      "source": [
        "i = 0\n",
        "while i < 10:\n",
        "    print(\"x\" * (i + 1))\n",
        "    i = i + 1"
      ],
      "metadata": {
        "colab": {
          "base_uri": "https://localhost:8080/"
        },
        "id": "0tjFu3syl02A",
        "outputId": "a77c5522-2837-40e3-c1e3-cdf3edbd21ff"
      },
      "execution_count": 10,
      "outputs": [
        {
          "output_type": "stream",
          "name": "stdout",
          "text": [
            "x\n",
            "xx\n",
            "xxx\n",
            "xxxx\n",
            "xxxxx\n",
            "xxxxxx\n",
            "xxxxxxx\n",
            "xxxxxxxx\n",
            "xxxxxxxxx\n",
            "xxxxxxxxxx\n"
          ]
        }
      ]
    }
  ]
}