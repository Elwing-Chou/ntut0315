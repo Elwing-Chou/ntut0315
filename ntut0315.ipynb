{
  "nbformat": 4,
  "nbformat_minor": 0,
  "metadata": {
    "colab": {
      "provenance": [],
      "authorship_tag": "ABX9TyOPl/eYok3tdlBc4n/cwKKp",
      "include_colab_link": true
    },
    "kernelspec": {
      "name": "python3",
      "display_name": "Python 3"
    },
    "language_info": {
      "name": "python"
    }
  },
  "cells": [
    {
      "cell_type": "markdown",
      "metadata": {
        "id": "view-in-github",
        "colab_type": "text"
      },
      "source": [
        "<a href=\"https://colab.research.google.com/github/Elwing-Chou/ntut0315/blob/main/ntut0315.ipynb\" target=\"_parent\"><img src=\"https://colab.research.google.com/assets/colab-badge.svg\" alt=\"Open In Colab\"/></a>"
      ]
    },
    {
      "cell_type": "markdown",
      "source": [
        "```python\n",
        "BMI 程式\n",
        "\n",
        "1. 讓使用者輸入\n",
        "2. 根據輸入計算bmi\n",
        "3. 根據bmi給出建議\n",
        "\n",
        "\n",
        "1. 註解: 影響可讀性 # ffff\n",
        "2. 現代程式最重要的一件事: 可讀性\n",
        "3. python大家習慣的排版: PEP coding style\n",
        "4. 功能(function): print(參數)\n",
        "  就算沒有參數, 還是要() e.g. 功能()\n",
        "5. !!!!!!!!! 絕不重複\n",
        "6. =: 名稱 = value\n",
        "  a. 5 == 3 + 2(是否一樣?)\n",
        "  b. x = 2(取代)\n",
        "7. 型態(type):\n",
        "  a. 數字型態: 細分整數(int)和小數(float)\n",
        "  b. 字串型態: str, 定義的時候\"aaaa\"\n",
        "8. 型態轉換: int() float() str()\n",
        "\n",
        "\n",
        "\n",
        "型態很重要: \"abc\" + 3.2(X) python會拒絕不同型態的加減乘除\n",
        "\n",
        "```"
      ],
      "metadata": {
        "id": "cUY2nywhk8lE"
      }
    },
    {
      "cell_type": "code",
      "execution_count": 16,
      "metadata": {
        "colab": {
          "base_uri": "https://localhost:8080/"
        },
        "id": "0DNVHoYcdjGl",
        "outputId": "01415fcb-417b-4d91-8ade-4aa08cc13178"
      },
      "outputs": [
        {
          "output_type": "stream",
          "name": "stdout",
          "text": [
            "輸入體重是:73\n",
            "輸入身高是:175\n",
            "計算出的bmi:23.836734693877553\n"
          ]
        }
      ],
      "source": [
        "# bmi: weight(kg)/height(m)^2\n",
        "weight = 73\n",
        "height = 175\n",
        "bmi = weight / (height / 100) ** 2\n",
        "print(\"輸入體重是:\" + str(weight))\n",
        "print(\"輸入身高是:\" + str(height))\n",
        "print(\"計算出的bmi:\" + str(bmi))"
      ]
    },
    {
      "cell_type": "markdown",
      "source": [
        "```python\n",
        "浮點數誤差(超爛說法)\n",
        "1. 人類數數: 十進位\n",
        "六進位: 0 1 2 3 4 5 10 11 12 13 14 15 20 .... 55 100\n",
        "二進位: 0 1 10 11 100 101 110 111 1000\n",
        "\n",
        "無限小數/有限小數: 在不同進位法裡, 無限還是無限嗎\n",
        "pizza切三塊: 0.33333333333(十進位) 0.1(三進位)\n",
        "\n",
        "小數的誤差你要習慣: 不同習慣轉換的時候本來就可能誤差\n",
        "小數是估計值而不是精確值: 0.29999999 == 0.3(對的)\n",
        "\n",
        "````"
      ],
      "metadata": {
        "id": "V3bHUOypuQOe"
      }
    },
    {
      "cell_type": "code",
      "source": [
        "# type(3.0)\n",
        "3 + 3.14"
      ],
      "metadata": {
        "colab": {
          "base_uri": "https://localhost:8080/"
        },
        "id": "R6RYtuQ_tjp3",
        "outputId": "dc1c9588-3557-41b8-edd2-10f626185975"
      },
      "execution_count": 11,
      "outputs": [
        {
          "output_type": "execute_result",
          "data": {
            "text/plain": [
              "6.140000000000001"
            ]
          },
          "metadata": {},
          "execution_count": 11
        }
      ]
    }
  ]
}