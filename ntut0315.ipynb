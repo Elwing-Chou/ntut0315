{
  "nbformat": 4,
  "nbformat_minor": 0,
  "metadata": {
    "colab": {
      "provenance": [],
      "authorship_tag": "ABX9TyMAECTteHfoC0+CwSh+sXqN",
      "include_colab_link": true
    },
    "kernelspec": {
      "name": "python3",
      "display_name": "Python 3"
    },
    "language_info": {
      "name": "python"
    }
  },
  "cells": [
    {
      "cell_type": "markdown",
      "metadata": {
        "id": "view-in-github",
        "colab_type": "text"
      },
      "source": [
        "<a href=\"https://colab.research.google.com/github/Elwing-Chou/ntut0315/blob/main/ntut0315.ipynb\" target=\"_parent\"><img src=\"https://colab.research.google.com/assets/colab-badge.svg\" alt=\"Open In Colab\"/></a>"
      ]
    },
    {
      "cell_type": "markdown",
      "source": [
        "```python\n",
        "BMI 程式\n",
        "\n",
        "1. 讓使用者輸入\n",
        "2. 根據輸入計算bmi\n",
        "3. 根據bmi給出建議\n",
        "\n",
        "\n",
        "1. 註解: 影響可讀性 # ffff\n",
        "2. 現代程式最重要的一件事: 可讀性\n",
        "3. python大家習慣的排版: PEP coding style\n",
        "4. 功能(function): print(參數)\n",
        "  就算沒有參數, 還是要() e.g. 功能()\n",
        "5. !!!!!!!!! 絕不重複\n",
        "6. =: 名稱 = value\n",
        "  a. 5 == 3 + 2(是否一樣?)\n",
        "  b. x = 2(取代)\n",
        "7. 型態(type):\n",
        "  a. 數字型態: 細分整數(int)和小數(float)\n",
        "  b. 字串型態: str, 定義的時候\"aaaa\"\n",
        "8. 型態轉換: int() float() str()\n",
        "9. input(字串)\n",
        "  剛剛我們學會了參數, 有些功能做完了還會有個\"答案\"\n",
        "  我們叫他\"回傳值\": 做完功能以後, 得到的\"新的!!!答案\"(check type)\n",
        "\n",
        "10.分支(如果...否則)(>, >=, <, <=, ==)\n",
        "\n",
        "if bmi >= 25:\n",
        "    print\n",
        "    print\n",
        "else:\n",
        "    print\n",
        "\n",
        "\n",
        "!!! 強制排版(縮排): 劇本式排版\n",
        "Elwing:\n",
        "    我的台詞\n",
        "!!! 冒號/TAB\n",
        "p.s. indentation error: 縮排問題\n",
        "\n",
        "型態很重要: \"abc\" + 3.2(X) python會拒絕不同型態的加減乘除\n",
        "\n",
        "```"
      ],
      "metadata": {
        "id": "cUY2nywhk8lE"
      }
    },
    {
      "cell_type": "code",
      "execution_count": 32,
      "metadata": {
        "colab": {
          "base_uri": "https://localhost:8080/"
        },
        "id": "0DNVHoYcdjGl",
        "outputId": "ea647299-d641-49d4-ecc3-208a0262e4d7"
      },
      "outputs": [
        {
          "output_type": "stream",
          "name": "stdout",
          "text": [
            "請輸入體重(kg):73\n",
            "請輸入身高(cm):175\n",
            "輸入體重是:73.0\n",
            "輸入身高是:175.0\n",
            "計算出的bmi:23.836734693877553\n",
            "體重正常\n",
            "!!!!!!!\n"
          ]
        }
      ],
      "source": [
        "# bmi: weight(kg)/height(m)^2\n",
        "weight = float(input(\"請輸入體重(kg):\"))\n",
        "height = float(input(\"請輸入身高(cm):\"))\n",
        "bmi = weight / (height / 100) ** 2\n",
        "print(\"輸入體重是:\" + str(weight))\n",
        "print(\"輸入身高是:\" + str(height))\n",
        "print(\"計算出的bmi:\" + str(bmi))\n",
        "\n",
        "if bmi >= 25:\n",
        "    print(\"體重過重\")\n",
        "else:\n",
        "    print(\"體重正常\")\n",
        "print(\"!!!!!!!\")"
      ]
    },
    {
      "cell_type": "markdown",
      "source": [
        "```python\n",
        "浮點數誤差(超爛說法)\n",
        "1. 人類數數: 十進位\n",
        "六進位: 0 1 2 3 4 5 10 11 12 13 14 15 20 .... 55 100\n",
        "二進位: 0 1 10 11 100 101 110 111 1000\n",
        "\n",
        "無限小數/有限小數: 在不同進位法裡, 無限還是無限嗎\n",
        "pizza切三塊: 0.33333333333(十進位) 0.1(三進位)\n",
        "\n",
        "小數的誤差你要習慣: 不同習慣轉換的時候本來就可能誤差\n",
        "小數是估計值而不是精確值: 0.29999999 == 0.3(對的)\n",
        "\n",
        "````"
      ],
      "metadata": {
        "id": "V3bHUOypuQOe"
      }
    },
    {
      "cell_type": "code",
      "source": [
        "# type(3.0)\n",
        "3 + 3.14"
      ],
      "metadata": {
        "colab": {
          "base_uri": "https://localhost:8080/"
        },
        "id": "R6RYtuQ_tjp3",
        "outputId": "dc1c9588-3557-41b8-edd2-10f626185975"
      },
      "execution_count": 11,
      "outputs": [
        {
          "output_type": "execute_result",
          "data": {
            "text/plain": [
              "6.140000000000001"
            ]
          },
          "metadata": {},
          "execution_count": 11
        }
      ]
    },
    {
      "cell_type": "markdown",
      "source": [
        "```python\n",
        "不是把4.6轉成4(一個數字)\n",
        "而是利用傳進去的4.6做出一個4(兩個數字)\n",
        "```"
      ],
      "metadata": {
        "id": "Sl7JsoOh5vjY"
      }
    },
    {
      "cell_type": "code",
      "source": [
        "a = 4.6\n",
        "b = int(a)\n",
        "print(a)\n",
        "print(b)"
      ],
      "metadata": {
        "colab": {
          "base_uri": "https://localhost:8080/"
        },
        "id": "U7Ece-_w5QNZ",
        "outputId": "0e7b7d11-87f7-4341-bbd1-1989b110d6aa"
      },
      "execution_count": 21,
      "outputs": [
        {
          "output_type": "stream",
          "name": "stdout",
          "text": [
            "4.6\n",
            "4\n"
          ]
        }
      ]
    },
    {
      "cell_type": "markdown",
      "source": [
        "```python\n",
        "剪刀石頭布\n",
        "\n",
        "寫之前: 放下鍵盤滑鼠, 想!!! 核心邏輯\n",
        "核心邏輯: 下一個會贏上一個拳\n",
        "\n",
        "細節\n",
        "1. 三種拳整數\n",
        "  a. 好輸入\n",
        "  b. 其實他有大小關係(隱含)\n",
        "\n",
        "2. 隨機\n",
        "  你只要用到別的.py, 不管自己的/python內建/第三方\n",
        "  你都要先\"引用\"(import)\n",
        "  import .py名\n",
        "  把你import後面照抄.xxx功能\n",
        "\n",
        "  . \"的\"意思\n",
        "  ps. 除了 https://docs.python.org/3/library/functions.html 以外都要import\n",
        "\n",
        "\n",
        "3. 清單(list)型態(type)\n",
        "  0->剪刀 1->\n",
        "\n",
        "  創造清單\n",
        "  trans = [\"剪刀\", \"石頭\", \"xxx\"]\n",
        "\n",
        "  python會幫你偷做一件事\n",
        "  準備每個東西的key(0 1 2)\n",
        "\n",
        "  key-value查詢操作: 單方向(key->value)\n",
        "\n",
        "  查剪刀: trans[0]\n",
        "\n",
        "4. 多個if-else(單選篩選題)\n",
        "\n",
        "if bmi >= 25:\n",
        "    print()\n",
        "elif bmi >= 18:\n",
        "    print()\n",
        "else:\n",
        "    print()\n",
        "\n",
        "!!! >=25 >= 18反過來是不行的\n",
        "!!! else是可以不寫的\n",
        "!!! 最難的case: else\n",
        "\n",
        "5. 除法\n",
        "\n",
        "7 / 3 = 2...1\n",
        "取商: 7 // 3 -> 2\n",
        "取餘(mod): 7 % 3 -> 1 (循環)\n",
        "\n",
        "對3取餘數: 0 1 2 ...\n",
        " 4   : 0 1 2 3\n",
        " 11   : 0 - 10\n",
        " (x + 1): 0 - x\n",
        "```"
      ],
      "metadata": {
        "id": "S79cFwEvVNO-"
      }
    },
    {
      "cell_type": "code",
      "source": [
        "import random\n",
        "\n",
        "trans = [\"剪刀\", \"石頭\", \"布\"]\n",
        "my = int(input(\"請出拳 0.剪刀 1.石頭 2.布:\"))\n",
        "# 讓電腦在0-2之間隨機一個拳\n",
        "com = random.randint(0, 2)\n",
        "print(\"我出的\", trans[my])\n",
        "print(\"電腦的\", trans[com])\n",
        "\n",
        "# 寫途中: 念過中文再下筆\n",
        "# 如果我出的是電腦下一個: win\n",
        "# % 3: 2的下一個是0\n",
        "if my == (com + 1) % 3:\n",
        "    print(\"WIN\")\n",
        "elif com == (my + 1) % 3:\n",
        "    print(\"LOSE\")\n",
        "else:\n",
        "    print(\"EVEN\")\n"
      ],
      "metadata": {
        "colab": {
          "base_uri": "https://localhost:8080/"
        },
        "id": "wPps5ymzOfGd",
        "outputId": "24f15897-50a0-46f6-dd84-e62344f3313a"
      },
      "execution_count": 51,
      "outputs": [
        {
          "output_type": "stream",
          "name": "stdout",
          "text": [
            "請出拳 0.剪刀 1.石頭 2.布:0\n",
            "我出的 剪刀\n",
            "電腦的 布\n",
            "WIN\n"
          ]
        }
      ]
    },
    {
      "cell_type": "markdown",
      "source": [
        "![未命名.png](data:image/png;base64,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)"
      ],
      "metadata": {
        "id": "5D9LQGdcveWk"
      }
    },
    {
      "cell_type": "code",
      "source": [
        "import random\n",
        "\n",
        "trans = [\"剪刀(0)\", \"石頭(0)\", \"布(0)\",\n",
        "      \"剪刀(1)\", \"石頭(1)\", \"布(1)\"]\n",
        "\n",
        "# my = int(input(\"請出拳 0-5:\"))\n",
        "my = 4\n",
        "# 讓電腦在0-2之間隨機一個拳\n",
        "# com = random.randint(0, 5)\n",
        "com = 5\n",
        "print(\"我出的\", trans[my])\n",
        "print(\"電腦的\", trans[com])\n",
        "\n",
        "# 是否同組\n",
        "myg = my // 3\n",
        "comg = com // 3\n",
        "# 分辨是否同組\n",
        "if myg == comg:\n",
        "    print(\"同組\")\n",
        "    # 兩種情況 1.my,com都是0~2 2.my,com都是3~5\n",
        "    # ? 我有沒有辦法把兩種情況都進到0-2的舒適圈\n",
        "    my2 = my % 3\n",
        "    com2 = com % 3\n",
        "    # my2, com2必定是0~2\n",
        "    if my2 == (com2 + 1) % 3:\n",
        "        print(\"WIN\")\n",
        "    elif com2 == (my2 + 1) % 3:\n",
        "        print(\"LOSE\")\n",
        "    else:\n",
        "        print(\"EVEN\")\n",
        "else:\n",
        "    print(\"平手(不同組)\")"
      ],
      "metadata": {
        "colab": {
          "base_uri": "https://localhost:8080/"
        },
        "id": "RG2oUbi_vid0",
        "outputId": "d83eaa59-af24-457b-aa6c-63055a73d1c0"
      },
      "execution_count": 59,
      "outputs": [
        {
          "output_type": "stream",
          "name": "stdout",
          "text": [
            "我出的 石頭(1)\n",
            "電腦的 布(1)\n",
            "同組\n",
            "LOSE\n"
          ]
        }
      ]
    },
    {
      "cell_type": "code",
      "source": [
        "s = \"apple\"\n",
        "# demo key-value\n",
        "# 查東西[key]\n",
        "s[0]"
      ],
      "metadata": {
        "colab": {
          "base_uri": "https://localhost:8080/",
          "height": 36
        },
        "id": "6QAXbOAChzV4",
        "outputId": "3c7fcc65-dc78-4ab0-ff24-cf9871207dca"
      },
      "execution_count": 46,
      "outputs": [
        {
          "output_type": "execute_result",
          "data": {
            "text/plain": [
              "'a'"
            ],
            "application/vnd.google.colaboratory.intrinsic+json": {
              "type": "string"
            }
          },
          "metadata": {},
          "execution_count": 46
        }
      ]
    },
    {
      "cell_type": "code",
      "source": [
        "# demo: 大富翁 給初始 給走幾步 位於哪裡\n",
        "# 你要講中文\n",
        "# 請你在舒適圈(簡化)\n",
        "import random\n",
        "pos = int(input(\"一開始的位置: 56-88\"))\n",
        "dice = random.randint(1, 6)\n",
        "print(\"往後走幾步:\", dice)\n",
        "if 56 <= pos <= 88:\n",
        "    # 0 - 32\n",
        "    newpos = pos - 56\n",
        "    # 0 - 32 -> 56 - 88\n",
        "    pos2 = (newpos + dice) % 33 + 56\n",
        "    print(\"新的位置在:\", pos2)\n",
        "else:\n",
        "    print(\"不合理\")"
      ],
      "metadata": {
        "colab": {
          "base_uri": "https://localhost:8080/"
        },
        "id": "KI5yyBR5sqqL",
        "outputId": "ff18dc4d-041c-410a-80b4-d4181940347a"
      },
      "execution_count": 55,
      "outputs": [
        {
          "output_type": "stream",
          "name": "stdout",
          "text": [
            "一開始的位置: 56-8888\n",
            "往後走幾步: 3\n",
            "新的位置在: 58\n"
          ]
        }
      ]
    }
  ]
}