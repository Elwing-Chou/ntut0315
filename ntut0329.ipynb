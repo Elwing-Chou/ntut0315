{
  "nbformat": 4,
  "nbformat_minor": 0,
  "metadata": {
    "colab": {
      "provenance": [],
      "authorship_tag": "ABX9TyOkDGEOsE8v9hLSH8JOv8wt",
      "include_colab_link": true
    },
    "kernelspec": {
      "name": "python3",
      "display_name": "Python 3"
    },
    "language_info": {
      "name": "python"
    }
  },
  "cells": [
    {
      "cell_type": "markdown",
      "metadata": {
        "id": "view-in-github",
        "colab_type": "text"
      },
      "source": [
        "<a href=\"https://colab.research.google.com/github/Elwing-Chou/ntut0315/blob/main/ntut0329.ipynb\" target=\"_parent\"><img src=\"https://colab.research.google.com/assets/colab-badge.svg\" alt=\"Open In Colab\"/></a>"
      ]
    },
    {
      "cell_type": "code",
      "execution_count": null,
      "metadata": {
        "id": "B_4DLMzOfqzG"
      },
      "outputs": [],
      "source": [
        "import random\n",
        "\n",
        "trans = [\"LOSE\", \"EVEN\", \"WIN\"]\n",
        "win, even, lose = 0, 0, 0\n",
        "while win < 3 and lose < 3:\n",
        "    # -1: lose 0: even 1: win\n",
        "    result = random.randint(-1, 1)\n",
        "    print(trans[result+1])\n",
        "    if result == -1:\n",
        "        lose = lose + 1\n",
        "    elif result == 0:\n",
        "        even = even + 1\n",
        "    elif result == 1:\n",
        "        win = win + 1\n",
        "if win > lose:\n",
        "    print(\"總體我贏\")\n",
        "else:\n",
        "    print(\"總體我輸\")"
      ]
    },
    {
      "cell_type": "code",
      "source": [
        "# while True + break為何重要\n",
        "# 1. 判斷地點變的很自由\n",
        "# 2. 收尾工作變得很自由\n",
        "# 3. 隱性好處: 會比較好講中文\n",
        "import random\n",
        "\n",
        "trans = [\"LOSE\", \"EVEN\", \"WIN\"]\n",
        "win, even, lose = 0, 0, 0\n",
        "while True:\n",
        "    # -1: lose 0: even 1: win\n",
        "    result = random.randint(-1, 1)\n",
        "    print(trans[result+1])\n",
        "    if result == -1:\n",
        "        lose = lose + 1\n",
        "    elif result == 0:\n",
        "        even = even + 1\n",
        "    elif result == 1:\n",
        "        win = win + 1\n",
        "    # new check\n",
        "    if win == 3:\n",
        "        print(\"總體營\")\n",
        "        break\n",
        "    elif lose == 3:\n",
        "        print(\"總體輸\")\n",
        "        break\n"
      ],
      "metadata": {
        "id": "AO6--5uUgOTZ"
      },
      "execution_count": null,
      "outputs": []
    }
  ]
}